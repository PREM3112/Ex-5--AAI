{
 "cells": [
  {
   "cell_type": "code",
   "execution_count": 1,
   "metadata": {},
   "outputs": [],
   "source": [
    "import numpy as np\n",
    "\n",
    "class KalmanFilter:\n",
    "    def __init__(self, F, H, Q, R, x0, P0):\n",
    "        self.F = F # state transition model\n",
    "        self.H = H # observation model\n",
    "        self.Q = Q # process noise covariance\n",
    "        self.R = R # measurement noise covariance\n",
    "        self.x = x0 # initial state estimate\n",
    "        self.P = P0 # initial error covariance\n",
    "   "
   ]
  },
  {
   "cell_type": "code",
   "execution_count": 3,
   "metadata": {},
   "outputs": [],
   "source": [
    "class KalmanFilter:\n",
    "    def __init__(self, F, H, Q, R, x0, P0):\n",
    "        self.F = F \n",
    "        self.H = H \n",
    "        self.Q = Q \n",
    "        self.R = R \n",
    "        self.x = x0 \n",
    "        self.P = P0 \n",
    "    def predict(self):\n",
    "      self.x = np.dot(self.F, self.x)\n",
    "      self.P = np.dot(np.dot(self.F, self.P), self.F.T) + self.Q\n",
    "\n",
    "    def update (self, z):\n",
    "      y=z - np.dot(self.H, self.x)\n",
    "      S = np.dot (np.dot(self.H, self.P), self.H.T)+ self.R\n",
    "      K = np.dot (np.dot (self.P, self.H.T), np.linalg.inv(S))\n",
    "      self.x = self.x + np.dot (K, y)\n",
    "      self.P = np.dot (np.eye(self.F.shape[0]) -np.dot (K, self.H), self.P)\n",
    "\n",
    "dt = 0.1\n",
    "F = np.array([[1, dt], [0, 1]])\n",
    "H = np.array([[1, 0]])\n",
    "Q = np.diag([0.1, 0.1])\n",
    "R = np.array([[1]])\n",
    "x0 = np.array([0, 0])\n",
    "P0 = np.diag([1, 1])\n",
    "\n",
    "kf=KalmanFilter(F,H,Q,R,x0,P0)\n",
    "\n",
    "true_states = []\n",
    "measurements = []\n",
    "for i in range(100):\n",
    "  true_states.append([i*dt, 1]) \n",
    "  measurements.append(i*dt +np.random.normal(scale=1))\n",
    "est_states=[]\n",
    "for z in measurements:\n",
    "  kf.predict()\n",
    "  kf.update (np.array([z]))\n",
    "  est_states.append(kf.x)\n",
    "\n",
    "\n"
   ]
  },
  {
   "cell_type": "code",
   "execution_count": null,
   "metadata": {},
   "outputs": [],
   "source": [
    "\n",
    "        \n"
   ]
  },
  {
   "cell_type": "code",
   "execution_count": null,
   "metadata": {},
   "outputs": [],
   "source": [
    "\n"
   ]
  },
  {
   "cell_type": "code",
   "execution_count": null,
   "metadata": {},
   "outputs": [],
   "source": []
  },
  {
   "cell_type": "code",
   "execution_count": null,
   "metadata": {},
   "outputs": [],
   "source": [
    "\n"
   ]
  }
 ],
 "metadata": {
  "kernelspec": {
   "display_name": "Python 3",
   "language": "python",
   "name": "python3"
  },
  "language_info": {
   "codemirror_mode": {
    "name": "ipython",
    "version": 3
   },
   "file_extension": ".py",
   "mimetype": "text/x-python",
   "name": "python",
   "nbconvert_exporter": "python",
   "pygments_lexer": "ipython3",
   "version": "3.11.8"
  }
 },
 "nbformat": 4,
 "nbformat_minor": 2
}
